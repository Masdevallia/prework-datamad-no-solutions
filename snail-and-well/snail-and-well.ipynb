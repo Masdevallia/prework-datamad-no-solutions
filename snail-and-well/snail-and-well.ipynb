{
 "cells": [
  {
   "cell_type": "markdown",
   "metadata": {},
   "source": [
    "# Snail and well\n",
    "\n",
    "A snail falls at the bottom of a 125 cm well. Each day the snail rises 30 cm. But at night, while sleeping, slides 20 cm because the walls are wet. How many days does it take to escape from the well?\n",
    "\n",
    "TIP: http://puzzles.nigelcoldwell.co.uk/sixtytwo.htm"
   ]
  },
  {
   "cell_type": "markdown",
   "metadata": {},
   "source": [
    "## Solución"
   ]
  },
  {
   "cell_type": "code",
   "execution_count": 36,
   "metadata": {},
   "outputs": [
    {
     "name": "stdout",
     "output_type": "stream",
     "text": [
      "Days = 11\n"
     ]
    }
   ],
   "source": [
    "# Assign problem data to variables with representative names\n",
    "# well height, daily advance, night retreat, accumulated distance\n",
    "\n",
    "WellHeight = 125\n",
    "DailyAdvance = 30\n",
    "NightRetreat = 20\n",
    "AccumulatedDistance = 0\n",
    "\n",
    "# Assign 0 to the variable that represents the solution\n",
    "\n",
    "Days = 0\n",
    "\n",
    "# Write the code that solves the problem\n",
    "\n",
    "while AccumulatedDistance < WellHeight:\n",
    "    AccumulatedDistance += DailyAdvance\n",
    "    Days += 1\n",
    "    # print(\"El día\", Days, \"el caracol llega a\", AccumulatedDistance, \"cm.\")\n",
    "    if AccumulatedDistance < WellHeight:\n",
    "        AccumulatedDistance -= NightRetreat\n",
    "        # print(\"Pero esa noche retrocede hasta\", AccumulatedDistance, \"cm.\")\n",
    "\n",
    "# Print the result with print('Days =', days)\n",
    "print('Days =', Days)\n"
   ]
  },
  {
   "cell_type": "markdown",
   "metadata": {},
   "source": [
    "**Expected output**: \n",
    "```\n",
    "Days = 11\n",
    "```"
   ]
  },
  {
   "cell_type": "markdown",
   "metadata": {},
   "source": [
    "## Goals\n",
    "\n",
    "1. Treatment of variables\n",
    "2. Use of loop **while**\n",
    "3. Use of conditional **if-else**\n",
    "4. Print in console"
   ]
  },
  {
   "cell_type": "markdown",
   "metadata": {},
   "source": [
    "## Bonus\n",
    "The distance traveled by the snail is now defined by a list.\n",
    "```\n",
    "advance_cm = [30, 21, 33, 77, 44, 45, 23, 45, 12, 34, 55]\n",
    "```\n",
    "How long does it take to raise the well?\n",
    "\n",
    "What is its maximum displacement in one day? And its minimum?\n",
    "\n",
    "What is its average speed during the day?\n",
    "\n",
    "What is the standard deviation of its displacement during the day?"
   ]
  },
  {
   "cell_type": "code",
   "execution_count": 37,
   "metadata": {},
   "outputs": [
    {
     "name": "stdout",
     "output_type": "stream",
     "text": [
      "Days = 6\n"
     ]
    }
   ],
   "source": [
    "# Assign problem data to variables with representative names\n",
    "# well height, daily advance, night retreat, accumulated distance\n",
    "\n",
    "WellHeight = 125\n",
    "DailyAdvance = [30, 21, 33, 77, 44, 45, 23, 45, 12, 34, 55]\n",
    "NightRetreat = 20\n",
    "AccumulatedDistance = 0\n",
    "\n",
    "# Assign 0 to the variable that represents the solution\n",
    "\n",
    "Days = 0\n",
    "\n",
    "# Write the code that solves the problem\n",
    "\n",
    "# Para que el resultado sea 6 días, escapar debe definirse como superar esos 125 cm: AccumulatedDistance <= WellHeight,\n",
    "# no AccumulatedDistance < WellHeight !!!\n",
    "\n",
    "while AccumulatedDistance <= WellHeight:\n",
    "    AccumulatedDistance += DailyAdvance[Days]\n",
    "    Days += 1\n",
    "    # print(\"El día\", Days, \"el caracol llega a\", AccumulatedDistance, \"cm.\")\n",
    "    if AccumulatedDistance <= WellHeight:\n",
    "        AccumulatedDistance -= NightRetreat\n",
    "        # print(\"Pero esa noche retrocede hasta\", AccumulatedDistance, \"cm.\")\n",
    "\n",
    "# Print the result with print('Days =', days)\n",
    "print('Days =', Days)\n"
   ]
  },
  {
   "cell_type": "markdown",
   "metadata": {},
   "source": [
    "**Expected output**: \n",
    "```\n",
    "Days = 6\n",
    "```"
   ]
  },
  {
   "cell_type": "code",
   "execution_count": 38,
   "metadata": {},
   "outputs": [
    {
     "name": "stdout",
     "output_type": "stream",
     "text": [
      "77\n",
      "12\n"
     ]
    }
   ],
   "source": [
    "# What is its maximum displacement in a day? And its minimum?\n",
    "\n",
    "print(max(DailyAdvance))\n",
    "print(min(DailyAdvance))"
   ]
  },
  {
   "cell_type": "markdown",
   "metadata": {},
   "source": [
    "**Expected output**: \n",
    "```\n",
    "77 12\n",
    "```"
   ]
  },
  {
   "cell_type": "code",
   "execution_count": 39,
   "metadata": {},
   "outputs": [
    {
     "name": "stdout",
     "output_type": "stream",
     "text": [
      "38.09090909090909\n"
     ]
    }
   ],
   "source": [
    "# What is its average progress?\n",
    "\n",
    "print(sum(DailyAdvance)/len(DailyAdvance))\n",
    "\n",
    "# Alternativamente:\n",
    "# import numpy\n",
    "# print(numpy.mean(DailyAdvance))\n"
   ]
  },
  {
   "cell_type": "markdown",
   "metadata": {},
   "source": [
    "**Expected output**: \n",
    "```\n",
    "38.09090909090909\n",
    "```"
   ]
  },
  {
   "cell_type": "code",
   "execution_count": 40,
   "metadata": {},
   "outputs": [
    {
     "name": "stdout",
     "output_type": "stream",
     "text": [
      "17.159437082600803\n"
     ]
    }
   ],
   "source": [
    "# What is the standard deviation of your displacement during the day?\n",
    "\n",
    "mean = sum(DailyAdvance)/len(DailyAdvance)\n",
    "lista = []\n",
    "\n",
    "for i in DailyAdvance:\n",
    "    lista.append((abs(i - mean))**2)\n",
    "\n",
    "std = (sum(lista)/len(lista))**0.5\n",
    "print(std)\n",
    "\n",
    "# Alternativamente:\n",
    "# print(numpy.std(DailyAdvance))\n"
   ]
  },
  {
   "cell_type": "markdown",
   "metadata": {},
   "source": [
    "**Expected output**: \n",
    "```\n",
    "17.159437082600803\n",
    "```"
   ]
  }
 ],
 "metadata": {
  "kernelspec": {
   "display_name": "Python 3",
   "language": "python",
   "name": "python3"
  },
  "language_info": {
   "codemirror_mode": {
    "name": "ipython",
    "version": 3
   },
   "file_extension": ".py",
   "mimetype": "text/x-python",
   "name": "python",
   "nbconvert_exporter": "python",
   "pygments_lexer": "ipython3",
   "version": "3.7.3"
  }
 },
 "nbformat": 4,
 "nbformat_minor": 2
}
