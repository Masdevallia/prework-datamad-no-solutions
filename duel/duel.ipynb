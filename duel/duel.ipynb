{
 "cells": [
  {
   "cell_type": "markdown",
   "metadata": {},
   "source": [
    "# Duel of sorcerers\n",
    "## Intro\n",
    "You are witnessing an epic battle between two powerful sorcerers: Gandalf and Saruman. Each sorcerer has 10 spells of variable power in their mind and they are going to throw them one after the other. The winner of the duel will be the one who wins more of those clashes between spells. Spells are represented as a list of 10 integers whose value equals the power of the spell.\n",
    "```\n",
    "gandalf = [10, 11, 13, 30, 22, 11, 10, 33, 22, 22]\n",
    "saruman = [23, 66, 12, 43, 12, 10, 44, 23, 12, 17]\n",
    "```\n",
    "For example:\n",
    "1. The first clash is won by Saruman: 10 against 23, wins 23\n",
    "2. The second clash wins Saruman: 11 against 66, wins 66\n",
    "3. etc.\n",
    "\n",
    "\n",
    "You will create two variables, one for each sorcerer, where the sum of clashes won will be stored. Depending on which variable is greater at the end of the duel, you will show one of the following three results on the screen:\n",
    "* Gandalf wins\n",
    "* Saruman wins\n",
    "* Tie\n",
    "\n",
    "<img src=\"images/content_lightning_bolt_big.jpg\" width=\"400\">\n",
    "\n",
    "## LINKS: \n",
    "* zip: https://www.programiz.com/python-programming/methods/built-in/zip"
   ]
  },
  {
   "cell_type": "markdown",
   "metadata": {},
   "source": [
    "## Solution"
   ]
  },
  {
   "cell_type": "code",
   "execution_count": 1,
   "metadata": {},
   "outputs": [],
   "source": [
    "# Assign spell power lists to variables\n",
    "gandalf = [10, 11, 13, 30, 22, 11, 10, 33, 22, 22]\n",
    "saruman = [23, 66, 12, 43, 12, 10, 44, 23, 12, 17]"
   ]
  },
  {
   "cell_type": "code",
   "execution_count": 2,
   "metadata": {},
   "outputs": [],
   "source": [
    "# Assign 0 to each variable that stores the victories\n",
    "GandalfVictories = 0\n",
    "SarumanVictories = 0"
   ]
  },
  {
   "cell_type": "code",
   "execution_count": 3,
   "metadata": {},
   "outputs": [
    {
     "name": "stdout",
     "output_type": "stream",
     "text": [
      "6\n",
      "4\n"
     ]
    }
   ],
   "source": [
    "# Execution of spell clashes\n",
    "\n",
    "for i in range(0,len(gandalf)):\n",
    "    if gandalf[i] > saruman[i]:\n",
    "        GandalfVictories += 1\n",
    "    elif gandalf[i] < saruman[i]:\n",
    "        SarumanVictories += 1\n",
    "print(GandalfVictories)\n",
    "print(SarumanVictories)\n",
    "\n",
    "# Using zip():\n",
    "\n",
    "# GandalfVictories = 0\n",
    "# SarumanVictories = 0\n",
    "# batallas = list(zip(gandalf, saruman))\n",
    "# for i in range(0,len(batallas)):\n",
    "#     if batallas[i][0] > batallas[i][1]:\n",
    "#         GandalfVictories += 1\n",
    "#     elif batallas[i][0] < batallas[i][1]:\n",
    "#         SarumanVictories += 1\n",
    "# print(GandalfVictories)\n",
    "# print(SarumanVictories)\n"
   ]
  },
  {
   "cell_type": "markdown",
   "metadata": {},
   "source": [
    "**Expected output**:\n",
    "```\n",
    "6\n",
    "4\n",
    "```"
   ]
  },
  {
   "cell_type": "code",
   "execution_count": 4,
   "metadata": {},
   "outputs": [
    {
     "name": "stdout",
     "output_type": "stream",
     "text": [
      "Gandalf wins\n"
     ]
    }
   ],
   "source": [
    "# We check who has won, do not forget the possibility of a draw.\n",
    "# Print the result based on the winner.\n",
    "\n",
    "if GandalfVictories > SarumanVictories:\n",
    "    print(\"Gandalf wins\")\n",
    "elif GandalfVictories < SarumanVictories:\n",
    "    print(\"Saruman wins\")\n",
    "else:\n",
    "    print(\"Tie\")\n"
   ]
  },
  {
   "cell_type": "markdown",
   "metadata": {},
   "source": [
    "**Expected output**:\n",
    "```\n",
    "Gandalf wins\n",
    "```"
   ]
  },
  {
   "cell_type": "markdown",
   "metadata": {},
   "source": [
    "## Goals\n",
    "\n",
    "1. Treatment of lists\n",
    "2. Use of **for loop**\n",
    "3. Use of conditional **if-elif-else**\n",
    "4. Use of the functions **range(), len()**\n",
    "5. print()\n",
    "6. zip()"
   ]
  },
  {
   "cell_type": "markdown",
   "metadata": {},
   "source": [
    "## Bonus\n",
    "\n",
    "1. Spells now have a name and there is a dictionary that relates that name to a power.\n",
    "2. A sorcerer wins if he succeeds in winning 3 spell clashes in a row.\n",
    "3. Average of each of the spell lists.\n",
    "4. Standard deviation of each of the spell lists.\n",
    "\n",
    "```\n",
    "POWER = {\n",
    "    'Fireball': 50, \n",
    "    'Lightning bolt': 40, \n",
    "    'Magic arrow': 10, \n",
    "    'Black Tentacles': 25, \n",
    "    'Contagion': 45\n",
    "}\n",
    "\n",
    "gandalf = ['Fireball', 'Lightning bolt', 'Lightning bolt', 'Magic arrow', 'Fireball', \n",
    "           'Magic arrow', 'Lightning bolt', 'Fireball', 'Fireball', 'Fireball']\n",
    "saruman = ['Contagion', 'Contagion', 'Black Tentacles', 'Fireball', 'Black Tentacles', \n",
    "           'Lightning bolt', 'Magic arrow', 'Contagion', 'Magic arrow', 'Magic arrow']\n",
    "```\n",
    "\n",
    "Good luck!"
   ]
  },
  {
   "cell_type": "code",
   "execution_count": 5,
   "metadata": {},
   "outputs": [],
   "source": [
    "# 1. Spells now have a name and there is a dictionary that relates that name to a power.\n",
    "# variables\n",
    "\n",
    "POWER = {\n",
    "    'Fireball': 50, \n",
    "    'Lightning bolt': 40, \n",
    "    'Magic arrow': 10, \n",
    "    'Black Tentacles': 25, \n",
    "    'Contagion': 45\n",
    "}\n",
    "\n",
    "gandalf = ['Fireball', 'Lightning bolt', 'Lightning bolt', 'Magic arrow', 'Fireball', \n",
    "           'Magic arrow', 'Lightning bolt', 'Fireball', 'Magic arrow', 'Fireball']\n",
    "saruman = ['Contagion', 'Contagion', 'Black Tentacles', 'Fireball', 'Black Tentacles', \n",
    "           'Lightning bolt', 'Magic arrow', 'Contagion', 'Magic arrow', 'Magic arrow']"
   ]
  },
  {
   "cell_type": "code",
   "execution_count": 6,
   "metadata": {},
   "outputs": [
    {
     "name": "stdout",
     "output_type": "stream",
     "text": [
      "([50, 40, 40, 10, 50, 10, 40, 50, 10, 50], [45, 45, 25, 50, 25, 40, 10, 45, 10, 10])\n"
     ]
    }
   ],
   "source": [
    "# Assign spell power lists to variables\n",
    "\n",
    "GandalfPower = []\n",
    "SarumanPower = []\n",
    "\n",
    "for hechizo in gandalf:\n",
    "    GandalfPower.append(POWER[hechizo])\n",
    "for hechizo in saruman:\n",
    "    SarumanPower.append(POWER[hechizo])\n",
    "\n",
    "print(tuple([GandalfPower,SarumanPower]))\n"
   ]
  },
  {
   "cell_type": "markdown",
   "metadata": {},
   "source": [
    "**Expected output**:\n",
    "```\n",
    "([50, 40, 40, 10, 50, 10, 40, 50, 10, 50],\n",
    " [45, 45, 25, 50, 25, 40, 10, 45, 10, 10])\n",
    " ```"
   ]
  },
  {
   "cell_type": "code",
   "execution_count": 7,
   "metadata": {},
   "outputs": [
    {
     "name": "stdout",
     "output_type": "stream",
     "text": [
      "Gandalf wins\n"
     ]
    }
   ],
   "source": [
    "# 2. A sorcerer wins if he succeeds in winning 3 spell clashes in a row.\n",
    "\n",
    "# Execution of spell clashes\n",
    "# check clashes\n",
    "\n",
    "batallas = []\n",
    "\n",
    "for i in range(0,len(GandalfPower)):\n",
    "    if GandalfPower[i] > SarumanPower[i]:\n",
    "        batallas.append(\"Gandalf\")\n",
    "    elif GandalfPower[i] < SarumanPower[i]:\n",
    "        batallas.append(\"Saruman\")\n",
    "    else:\n",
    "        batallas.append(\"Empate\")\n",
    "        \n",
    "# print(batallas)\n",
    "\n",
    "# check for 3 wins in a row\n",
    "# check the winner\n",
    "\n",
    "for i in range(0, len(batallas)-1): # Resto 1 para evitar \"IndexError: list index out of range\"\n",
    "  if i<= len(batallas)-3:\n",
    "    # print(\"Evaluando:\", [batallas[i],batallas[i+1],batallas[i+2]]) \n",
    "    if batallas[i] == batallas[i+1] == batallas[i+2] == \"Gandalf\":\n",
    "        print(\"Gandalf wins\")\n",
    "        break\n",
    "    elif batallas[i] == batallas[i+1] == batallas[i+2] == \"Saruman\":\n",
    "        print(\"Saruman wins\")\n",
    "        break\n",
    "    i += 1\n",
    "  if i == len(batallas)-2:\n",
    "    # print(\"There is no winner\")\n",
    "    break\n",
    "\n",
    "# Ninguno gana 3 batallas seguidas si no se obvian los empates. Obviando empates:\n",
    "\n",
    "batallas = []\n",
    "\n",
    "for i in range(0,len(GandalfPower)):\n",
    "    if GandalfPower[i] > SarumanPower[i]:\n",
    "        batallas.append(\"Gandalf\")\n",
    "    elif GandalfPower[i] < SarumanPower[i]:\n",
    "        batallas.append(\"Saruman\")\n",
    "        \n",
    "# print(batallas)\n",
    "\n",
    "for i in range(0, len(batallas)-1): # Resto 1 para evitar \"IndexError: list index out of range\"\n",
    "  if i<= len(batallas)-3:\n",
    "    # print(\"Evaluando:\", [batallas[i],batallas[i+1],batallas[i+2]]) \n",
    "    if batallas[i] == batallas[i+1] == batallas[i+2] == \"Gandalf\":\n",
    "        print(\"Gandalf wins\")\n",
    "        break\n",
    "    elif batallas[i] == batallas[i+1] == batallas[i+2] == \"Saruman\":\n",
    "        print(\"Saruman wins\")\n",
    "        break\n",
    "    i += 1\n",
    "  if i == len(batallas)-2:\n",
    "    print(\"There is no winner\")\n",
    "    break\n",
    "\n",
    "# count sum of clashes\n",
    "\n",
    "GanadorGandalf = 0\n",
    "GanadorSaruman = 0\n",
    "for ganador in batallas:\n",
    "    if ganador == \"Gandalf\":\n",
    "        GanadorGandalf += 1\n",
    "    if ganador == \"Saruman\":\n",
    "        GanadorSaruman += 1\n",
    "# print(\"Gandalf ha ganado\", GanadorGandalf, \"batallas.\")\n",
    "# print(\"Saruman ha ganado\", GanadorSaruman, \"batallas.\")\n",
    "\n"
   ]
  },
  {
   "cell_type": "markdown",
   "metadata": {},
   "source": [
    "**Expected output**:\n",
    "```\n",
    "Gandalf wins\n",
    "```"
   ]
  },
  {
   "cell_type": "code",
   "execution_count": 8,
   "metadata": {},
   "outputs": [
    {
     "name": "stdout",
     "output_type": "stream",
     "text": [
      "35.0\n",
      "30.5\n"
     ]
    }
   ],
   "source": [
    "# 3. Average of each of the spell lists.\n",
    "\n",
    "print(sum(GandalfPower)/len(GandalfPower))\n",
    "print(sum(SarumanPower)/len(SarumanPower))\n",
    "\n",
    "# Alternativamente:\n",
    "# import numpy\n",
    "# print(numpy.mean(GandalfPower))\n",
    "# print(numpy.mean(SarumanPower))\n"
   ]
  },
  {
   "cell_type": "markdown",
   "metadata": {},
   "source": [
    "**Expected output**:\n",
    "```\n",
    "35.0\n",
    "30.5\n",
    "```"
   ]
  },
  {
   "cell_type": "code",
   "execution_count": 9,
   "metadata": {},
   "outputs": [
    {
     "name": "stdout",
     "output_type": "stream",
     "text": [
      "16.881943016134134\n",
      "15.56438241627338\n"
     ]
    }
   ],
   "source": [
    "# 4. Standard deviation of each of the spell lists.\n",
    "\n",
    "meanGandalf = sum(GandalfPower)/len(GandalfPower)\n",
    "listaGandalf = []\n",
    "for i in GandalfPower:\n",
    "    listaGandalf.append((abs(i - meanGandalf))**2)\n",
    "stdGandalf = (sum(listaGandalf)/len(listaGandalf))**0.5\n",
    "print(stdGandalf)\n",
    "\n",
    "meanSaruman = sum(SarumanPower)/len(SarumanPower)\n",
    "listaSaruman = []\n",
    "for i in SarumanPower:\n",
    "    listaSaruman.append((abs(i - meanSaruman))**2)\n",
    "stdSaruman = (sum(listaSaruman)/len(listaSaruman))**0.5\n",
    "print(stdSaruman)\n",
    "\n",
    "# Alternativamente:\n",
    "# print(numpy.std(GandalfPower))\n",
    "# print(numpy.std(SarumanPower))\n"
   ]
  },
  {
   "cell_type": "markdown",
   "metadata": {},
   "source": [
    "**Expected output**:\n",
    "```\n",
    "16.881943016134134\n",
    "15.56438241627338\n",
    "```"
   ]
  },
  {
   "cell_type": "code",
   "execution_count": null,
   "metadata": {},
   "outputs": [],
   "source": []
  }
 ],
 "metadata": {
  "kernelspec": {
   "display_name": "Python 3",
   "language": "python",
   "name": "python3"
  },
  "language_info": {
   "codemirror_mode": {
    "name": "ipython",
    "version": 3
   },
   "file_extension": ".py",
   "mimetype": "text/x-python",
   "name": "python",
   "nbconvert_exporter": "python",
   "pygments_lexer": "ipython3",
   "version": "3.7.3"
  }
 },
 "nbformat": 4,
 "nbformat_minor": 2
}
